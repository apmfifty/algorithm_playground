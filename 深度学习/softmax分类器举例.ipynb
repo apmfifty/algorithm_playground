{
 "cells": [
  {
   "cell_type": "code",
   "execution_count": 8,
   "metadata": {},
   "outputs": [
    {
     "name": "stdout",
     "output_type": "stream",
     "text": [
      "z [ 5  2 -1  3]\n",
      "t [148.4131591    7.3890561    0.36787944  20.08553692]\n",
      "a [0.84203357 0.04192238 0.00208719 0.11395685]\n"
     ]
    }
   ],
   "source": [
    "import numpy as np\n",
    "\n",
    "z=np.array([5,2,-1,3])\n",
    "print(\"z\",z)\n",
    "t=np.exp(z)\n",
    "print(\"t\",t)\n",
    "t_sum=t.sum()\n",
    "a=t/t_sum\n",
    "print(\"a\",a)"
   ]
  },
  {
   "cell_type": "code",
   "execution_count": 12,
   "metadata": {},
   "outputs": [
    {
     "name": "stdout",
     "output_type": "stream",
     "text": [
      "-0.2\n"
     ]
    }
   ],
   "source": [
    "# 计算损失函数\n",
    "import numpy as np\n",
    "yhat=np.array([0.3,0.2,0.1,0.4])\n",
    "y=np.array([0,1,0,0])\n",
    "L=-np.dot(yhat,y)\n",
    "print(L)"
   ]
  },
  {
   "cell_type": "code",
   "execution_count": null,
   "metadata": {
    "collapsed": true
   },
   "outputs": [],
   "source": []
  }
 ],
 "metadata": {
  "kernelspec": {
   "display_name": "Python 3",
   "language": "python",
   "name": "python3"
  },
  "language_info": {
   "codemirror_mode": {
    "name": "ipython",
    "version": 3
   },
   "file_extension": ".py",
   "mimetype": "text/x-python",
   "name": "python",
   "nbconvert_exporter": "python",
   "pygments_lexer": "ipython3",
   "version": "3.6.3"
  }
 },
 "nbformat": 4,
 "nbformat_minor": 2
}
