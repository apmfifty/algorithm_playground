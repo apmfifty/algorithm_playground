{
 "cells": [
  {
   "cell_type": "code",
   "execution_count": 8,
   "metadata": {},
   "outputs": [
    {
     "name": "stdout",
     "output_type": "stream",
     "text": [
      "z [ 5  2 -1  3]\n",
      "t [148.4131591    7.3890561    0.36787944  20.08553692]\n",
      "a [0.84203357 0.04192238 0.00208719 0.11395685]\n"
     ]
    }
   ],
   "source": [
    "import numpy as np\n",
    "\n",
    "z=np.array([5,2,-1,3])\n",
    "print(\"z\",z)\n",
    "t=np.exp(z)\n",
    "print(\"t\",t)\n",
    "t_sum=t.sum()\n",
    "a=t/t_sum\n",
    "print(\"a\",a)"
   ]
  },
  {
   "cell_type": "code",
   "execution_count": 9,
   "metadata": {},
   "outputs": [
    {
     "data": {
      "text/plain": [
       "'/Users/pengju/python-workspace/algorithm_playground/深度学习'"
      ]
     },
     "execution_count": 9,
     "metadata": {},
     "output_type": "execute_result"
    }
   ],
   "source": [
    "pwd"
   ]
  },
  {
   "cell_type": "code",
   "execution_count": null,
   "metadata": {
    "collapsed": true
   },
   "outputs": [],
   "source": []
  }
 ],
 "metadata": {
  "kernelspec": {
   "display_name": "Python 3",
   "language": "python",
   "name": "python3"
  },
  "language_info": {
   "codemirror_mode": {
    "name": "ipython",
    "version": 3
   },
   "file_extension": ".py",
   "mimetype": "text/x-python",
   "name": "python",
   "nbconvert_exporter": "python",
   "pygments_lexer": "ipython3",
   "version": "3.6.3"
  }
 },
 "nbformat": 4,
 "nbformat_minor": 2
}
