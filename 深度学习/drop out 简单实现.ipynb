{
 "cells": [
  {
   "cell_type": "code",
   "execution_count": 12,
   "metadata": {},
   "outputs": [
    {
     "name": "stdout",
     "output_type": "stream",
     "text": [
      "a3: [[0.26461815 0.66534146 0.29760959 0.62329532 0.77054667]\n",
      " [0.2219037  0.2472303  0.1907186  0.25500933 0.96392282]\n",
      " [0.49301162 0.28529915 0.68640562 0.02620304 0.61304923]]\n",
      "a3.mean=0.44027763945282267\n",
      "d3: [[ True False False False False]\n",
      " [ True  True  True  True  True]\n",
      " [ True False  True False False]]\n",
      "a3: [[0.26461815 0.         0.         0.         0.        ]\n",
      " [0.2219037  0.2472303  0.1907186  0.25500933 0.96392282]\n",
      " [0.49301162 0.         0.68640562 0.         0.        ]]\n",
      "a3.mean=0.22152134265219087\n",
      "a3: [[0.5292363  0.         0.         0.         0.        ]\n",
      " [0.4438074  0.49446059 0.38143719 0.51001866 1.92784564]\n",
      " [0.98602325 0.         1.37281125 0.         0.        ]]\n",
      "a3.mean=0.44304268530438173\n"
     ]
    }
   ],
   "source": [
    "import numpy as np\n",
    "\n",
    "keep_prob=0.5\n",
    "a3=np.random.rand(3,5)\n",
    "print('a3:',a3)\n",
    "print('a3.mean={}'.format(a3.mean()))\n",
    "\n",
    "d3=np.random.rand(a3.shape[0],a3.shape[1])<keep_prob\n",
    "print('d3:',d3)\n",
    "\n",
    "# element-wise 相乘\n",
    "a3=np.multiply(a3,d3)\n",
    "print('a3:',a3)\n",
    "print('a3.mean={}'.format(a3.mean()))\n",
    "\n",
    "# 保证均值接近\n",
    "a3/=keep_prob\n",
    "print('a3:',a3)\n",
    "print('a3.mean={}'.format(a3.mean()))\n",
    "\n"
   ]
  },
  {
   "cell_type": "code",
   "execution_count": 11,
   "metadata": {},
   "outputs": [
    {
     "data": {
      "text/plain": [
       "'/Users/pengju/python-workspace/algorithm_playground/深度学习'"
      ]
     },
     "execution_count": 11,
     "metadata": {},
     "output_type": "execute_result"
    }
   ],
   "source": [
    "pwd"
   ]
  },
  {
   "cell_type": "code",
   "execution_count": null,
   "metadata": {
    "collapsed": true
   },
   "outputs": [],
   "source": []
  }
 ],
 "metadata": {
  "kernelspec": {
   "display_name": "Python 3",
   "language": "python",
   "name": "python3"
  },
  "language_info": {
   "codemirror_mode": {
    "name": "ipython",
    "version": 3
   },
   "file_extension": ".py",
   "mimetype": "text/x-python",
   "name": "python",
   "nbconvert_exporter": "python",
   "pygments_lexer": "ipython3",
   "version": "3.6.3"
  }
 },
 "nbformat": 4,
 "nbformat_minor": 2
}
