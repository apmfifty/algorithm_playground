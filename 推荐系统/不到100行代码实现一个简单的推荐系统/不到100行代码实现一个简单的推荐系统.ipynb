{
 "cells": [
  {
   "cell_type": "markdown",
   "metadata": {},
   "source": [
    "# [不到100行代码实现一个简单的推荐系统](https://colobu.com/2015/04/16/recommandation-system-implement-in-100-lines/#more)"
   ]
  },
  {
   "cell_type": "code",
   "execution_count": 27,
   "metadata": {
    "collapsed": true
   },
   "outputs": [],
   "source": [
    "import math"
   ]
  },
  {
   "cell_type": "code",
   "execution_count": 28,
   "metadata": {},
   "outputs": [],
   "source": [
    "def load_data(file_path):\n",
    "    # load data from file ,save a data into a dic and return them\n",
    "    # params:\n",
    "    #   file_path: the file path to load the data\n",
    "    #return:\n",
    "    #   a dic contains data,shape like{user_1{movie_1:score,movie_2:score},user_2{movie_1:score,movie_2:score}}\n",
    "\n",
    "    file = open(file_path)\n",
    "    columns = file.readline().strip(\"\\n\").split(',')\n",
    "\n",
    "    score_dic = {}\n",
    "    for line in file:\n",
    "        scores = line.split(',')\n",
    "        object_score = {}\n",
    "        for i in range(len(scores))[1:]:\n",
    "            object_score[(columns[i])] = scores[i].strip(\"\\n\")\n",
    "        score_dic[(scores[0])]= object_score\n",
    "\n",
    "    return score_dic"
   ]
  },
  {
   "cell_type": "code",
   "execution_count": 29,
   "metadata": {
    "collapsed": true
   },
   "outputs": [],
   "source": [
    "def sim_distance(score_dic, ori_object, object):\n",
    "    # compute a distance-based similarity score for ori_object and object\n",
    "    # params:\n",
    "    #   score_dic: the dic contains object and their score\n",
    "    #   ori_object: the object to get the similar one\n",
    "    #   object: the obeject to compared with the ori_obeject\n",
    "    # return:\n",
    "    #   the similarity between ori_obejct and obejct\n",
    "\n",
    "    # get same items\n",
    "    same_item = {}\n",
    "    for item in score_dic[ori_object]:\n",
    "        if score_dic[ori_object][item]:\n",
    "            if item in score_dic[object] and score_dic[object][item]:\n",
    "                same_item[item] = 1\n",
    "\n",
    "    #euclidean distance\n",
    "    if len(same_item) == 0:\n",
    "        return 0\n",
    "\n",
    "    sum_of_squares = sum(pow(float(score_dic[ori_object][item]) - float(score_dic[object][item]), 2) for item in same_item)\n",
    "\n",
    "    sim_score = 1.0/(1.0 + math.sqrt(sum_of_squares))\n",
    "\n",
    "    return sim_score\n",
    "\n"
   ]
  },
  {
   "cell_type": "code",
   "execution_count": 33,
   "metadata": {
    "collapsed": true
   },
   "outputs": [],
   "source": [
    "def matrix_transform(score_dic):\n",
    "    # transfer the rows and columns in score_dic\n",
    "    # params:\n",
    "    #   score_dic: the dic contains object and their score\n",
    "    # return:\n",
    "    #   the transfered dic of score_dic\n",
    "    trans_score_dic = {}\n",
    "\n",
    "    users = score_dic.keys()\n",
    "    movies = []\n",
    "    for i, user in enumerate(users):\n",
    "        if i == 0:\n",
    "            movies = score_dic[user].keys()\n",
    "\n",
    "    for movie in movies:\n",
    "        movie_score = {}\n",
    "        for user in users:\n",
    "           movie_score[user] = score_dic[user][movie]\n",
    "        trans_score_dic[movie] = movie_score\n",
    "\n",
    "    return trans_score_dic\n"
   ]
  },
  {
   "cell_type": "code",
   "execution_count": 34,
   "metadata": {
    "collapsed": true
   },
   "outputs": [],
   "source": [
    "def top_matches(score_dic, ori_object, similarity = sim_distance):\n",
    "    # find the similarity between objects in score_dic and ori_objects\n",
    "    # params:\n",
    "    #   score_dic: the dic contains object and their score\n",
    "    #   ori_object: the object to get the similar one\n",
    "    #   similarity: the function to get the similarity\n",
    "    # return:\n",
    "    #   the similarity score of obejcts in score_dic\n",
    "    \n",
    "     objects = score_dic.keys()\n",
    "     scores = [(similarity(score_dic, ori_object, object), object) for object in objects]\n",
    "     scores.sort()\n",
    "     scores.reverse()\n",
    "     return scores\n"
   ]
  },
  {
   "cell_type": "code",
   "execution_count": 35,
   "metadata": {},
   "outputs": [
    {
     "name": "stdout",
     "output_type": "stream",
     "text": [
      "{'Kai Zhou':{'Friends': '4', 'Bedtime Stories': '3', 'Dawn of the Planet of the Apes': '5', 'RoboCop': '', 'Fargo': '1', 'Cougar Town': '2'}}\n",
      "{'Shuai Ge':{'Friends': '', 'Bedtime Stories': '3.5', 'Dawn of the Planet of the Apes': '3', 'RoboCop': '4', 'Fargo': '2.5', 'Cougar Town': '4.5'}}\n",
      "{'Mei Nv':{'Friends': '3', 'Bedtime Stories': '4', 'Dawn of the Planet of the Apes': '2', 'RoboCop': '3', 'Fargo': '2', 'Cougar Town': '3'}}\n",
      "{'xiaoxianrou':{'Friends': '2.5', 'Bedtime Stories': '3.5', 'Dawn of the Planet of the Apes': '3', 'RoboCop': '3.5', 'Fargo': '2.5', 'Cougar Town': '3'}}\n",
      "{'fengzhi':{'Friends': '3', 'Bedtime Stories': '4', 'Dawn of the Planet of the Apes': '', 'RoboCop': '5', 'Fargo': '3.5', 'Cougar Town': '3'}}\n",
      "{'meinv':{'Friends': '', 'Bedtime Stories': '4.5', 'Dawn of the Planet of the Apes': '', 'RoboCop': '4', 'Fargo': '1', 'Cougar Town': ''}}\n",
      "{'mincat':{'Friends': '3', 'Bedtime Stories': '3.5', 'Dawn of the Planet of the Apes': '1.5', 'RoboCop': '5', 'Fargo': '3.5', 'Cougar Town': '3'}}\n",
      "{'alex':{'Friends': '2.5', 'Bedtime Stories': '3', 'Dawn of the Planet of the Apes': '', 'RoboCop': '3.5', 'Fargo': '', 'Cougar Town': '4'}}\n",
      "user similarity:\n",
      "(1.0, 'Kai Zhou')\n",
      "(0.4, 'meinv')\n",
      "(0.2857142857142857, 'alex')\n",
      "(0.2474401533514073, 'fengzhi')\n",
      "(0.24257131419419417, 'xiaoxianrou')\n",
      "(0.2187841884486319, 'Shuai Ge')\n",
      "(0.21712927295533244, 'Mei Nv')\n",
      "(0.18001097668719743, 'mincat')\n"
     ]
    }
   ],
   "source": [
    "if __name__ == \"__main__\":\n",
    "    file_path = \"train.csv\"\n",
    "    score_dic = load_data(file_path)\n",
    "    for item in score_dic.keys():\n",
    "        print(\"{\\'\"+item+\"\\':\"+str(score_dic[item])+\"}\")\n",
    "\n",
    "    #user similarity\n",
    "    print(\"user similarity:\")\n",
    "    person = \"Kai Zhou\"\n",
    "    for item in top_matches(score_dic, person):\n",
    "        print(str(item))"
   ]
  },
  {
   "cell_type": "code",
   "execution_count": 37,
   "metadata": {
    "collapsed": true
   },
   "outputs": [],
   "source": [
    "def get_recommendation(score_dic, ori_object, similarity = sim_distance):\n",
    "    # find the item to be recommeded to the ori_object\n",
    "    # params:\n",
    "    #   score_dic: the dic contains object and their score\n",
    "    #   ori_object: the object to get the similar one\n",
    "    #   similarity: the function to get the similarity\n",
    "    # return:\n",
    "    #   the scores of the recommedations\n",
    "\n",
    "    # get the rows and columns\n",
    "    rows = score_dic.keys()\n",
    "    columns = []\n",
    "    for i, row in enumerate(rows):\n",
    "        if i == 0:\n",
    "            columns = score_dic[row].keys()\n",
    "\n",
    "    sum_of_column_sim = {}\n",
    "    sum_of_column = {}\n",
    "\n",
    "    for row in rows:\n",
    "        if row == ori_object:\n",
    "            # just compare object which is distinct with ori_obejct\n",
    "            continue\n",
    "        #get the similarity score between ori_object and row\n",
    "        sim = similarity(score_dic, ori_object, row)\n",
    "        if sim <= 0:\n",
    "            continue\n",
    "\n",
    "        for column in columns:\n",
    "            if score_dic[row][column] == \"\":\n",
    "                # just compare the column of the row which has score\n",
    "                continue\n",
    "\n",
    "            # get the similarity of each column\n",
    "            sum_of_column_sim.setdefault(column, 0)\n",
    "            sum_of_column_sim[column] += sim\n",
    "            # get the similarity * score of each column\n",
    "            sum_of_column.setdefault(column, 0)\n",
    "            sum_of_column[column] += float(score_dic[row][column])* sim\n",
    "\n",
    "    scores = [(sum_of_column[column] / sum_of_column_sim[column], column) for column in columns]\n",
    "    scores.sort()\n",
    "    scores.reverse()\n",
    "    return scores\n"
   ]
  },
  {
   "cell_type": "code",
   "execution_count": 38,
   "metadata": {},
   "outputs": [
    {
     "name": "stdout",
     "output_type": "stream",
     "text": [
      "{'Kai Zhou':{'Friends': '4', 'Bedtime Stories': '3', 'Dawn of the Planet of the Apes': '5', 'RoboCop': '', 'Fargo': '1', 'Cougar Town': '2'}}\n",
      "{'Shuai Ge':{'Friends': '', 'Bedtime Stories': '3.5', 'Dawn of the Planet of the Apes': '3', 'RoboCop': '4', 'Fargo': '2.5', 'Cougar Town': '4.5'}}\n",
      "{'Mei Nv':{'Friends': '3', 'Bedtime Stories': '4', 'Dawn of the Planet of the Apes': '2', 'RoboCop': '3', 'Fargo': '2', 'Cougar Town': '3'}}\n",
      "{'xiaoxianrou':{'Friends': '2.5', 'Bedtime Stories': '3.5', 'Dawn of the Planet of the Apes': '3', 'RoboCop': '3.5', 'Fargo': '2.5', 'Cougar Town': '3'}}\n",
      "{'fengzhi':{'Friends': '3', 'Bedtime Stories': '4', 'Dawn of the Planet of the Apes': '', 'RoboCop': '5', 'Fargo': '3.5', 'Cougar Town': '3'}}\n",
      "{'meinv':{'Friends': '', 'Bedtime Stories': '4.5', 'Dawn of the Planet of the Apes': '', 'RoboCop': '4', 'Fargo': '1', 'Cougar Town': ''}}\n",
      "{'mincat':{'Friends': '3', 'Bedtime Stories': '3.5', 'Dawn of the Planet of the Apes': '1.5', 'RoboCop': '5', 'Fargo': '3.5', 'Cougar Town': '3'}}\n",
      "{'alex':{'Friends': '2.5', 'Bedtime Stories': '3', 'Dawn of the Planet of the Apes': '', 'RoboCop': '3.5', 'Fargo': '', 'Cougar Town': '4'}}\n",
      "find the person who likes Friends\n",
      "(3.852168426081191, 'fengzhi')\n",
      "(3.5041746395747113, 'Shuai Ge')\n",
      "(3.4770595566966906, 'alex')\n",
      "(3.312837309298171, 'meinv')\n",
      "(3.1988060066472097, 'mincat')\n",
      "(3.116119680762049, 'xiaoxianrou')\n",
      "(2.9027623977068964, 'Kai Zhou')\n",
      "(2.8313782715049807, 'Mei Nv')\n"
     ]
    }
   ],
   "source": [
    "if __name__ == \"__main__\":\n",
    "    file_path = \"train.csv\"\n",
    "    score_dic = load_data(file_path)\n",
    "    for item in score_dic.keys():\n",
    "        print(\"{\\'\"+item+\"\\':\"+str(score_dic[item])+\"}\")\n",
    "    movie = \"Friends\"\n",
    "    trans_score_dic = matrix_transform(score_dic)\n",
    "    # find person\n",
    "    print(\"find the person who likes \"+ movie)\n",
    "    people_score = get_recommendation(trans_score_dic, movie)\n",
    "    for item in people_score:\n",
    "        print(str(item))\n"
   ]
  },
  {
   "cell_type": "code",
   "execution_count": null,
   "metadata": {
    "collapsed": true
   },
   "outputs": [],
   "source": []
  },
  {
   "cell_type": "code",
   "execution_count": null,
   "metadata": {
    "collapsed": true
   },
   "outputs": [],
   "source": []
  }
 ],
 "metadata": {
  "kernelspec": {
   "display_name": "Python 3",
   "language": "python",
   "name": "python3"
  },
  "language_info": {
   "codemirror_mode": {
    "name": "ipython",
    "version": 3
   },
   "file_extension": ".py",
   "mimetype": "text/x-python",
   "name": "python",
   "nbconvert_exporter": "python",
   "pygments_lexer": "ipython3",
   "version": "3.6.3"
  }
 },
 "nbformat": 4,
 "nbformat_minor": 2
}
